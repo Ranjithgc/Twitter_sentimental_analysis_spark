{
 "cells": [
  {
   "cell_type": "code",
   "execution_count": 7,
   "metadata": {},
   "outputs": [
    {
     "data": {
      "text/plain": [
       "<Figure size 576x396 with 0 Axes>"
      ]
     },
     "metadata": {},
     "output_type": "display_data"
    }
   ],
   "source": [
    "import pandas as pd\n",
    "import matplotlib.pyplot as plt\n",
    "import seaborn as sns\n",
    "from matplotlib.animation import FuncAnimation\n",
    "from matplotlib import style \n",
    "\n",
    "# plt.style.available\n",
    "style.use(\"seaborn\")\n",
    "\n",
    "def animate(i):\n",
    "    data = pd.read_csv('data.csv')\n",
    "    x1 = data['pos']\n",
    "    x2 = data['neg']\n",
    "    y1 = data['p_count']\n",
    "    y2 = data['n_count']\n",
    "    plt.cla()\n",
    "    plt.bar(x1,y1,label=\"positive\",width=0.2)\n",
    "    plt.bar(x2,y2,label='negative',width=0.2)\n",
    "    plt.xlabel(\"sentiments\")\n",
    "    plt.ylabel(\"count\")\n",
    "    plt.legend(loc='center')\n",
    "    plt.tight_layout()\n",
    "    for x1, value in enumerate(y1):\n",
    "        plt.text(value, x1, str(value))\n",
    "\n",
    "ani = FuncAnimation(plt.gcf(), animate)\n",
    "\n",
    "plt.tight_layout()\n",
    "plt.show()"
   ]
  }
 ],
 "metadata": {
  "interpreter": {
   "hash": "31f2aee4e71d21fbe5cf8b01ff0e069b9275f58929596ceb00d14d90e3e16cd6"
  },
  "kernelspec": {
   "display_name": "Python 3.6.9 64-bit",
   "name": "python3"
  },
  "language_info": {
   "codemirror_mode": {
    "name": "ipython",
    "version": 3
   },
   "file_extension": ".py",
   "mimetype": "text/x-python",
   "name": "python",
   "nbconvert_exporter": "python",
   "pygments_lexer": "ipython3",
   "version": "3.6.9"
  },
  "orig_nbformat": 4
 },
 "nbformat": 4,
 "nbformat_minor": 2
}